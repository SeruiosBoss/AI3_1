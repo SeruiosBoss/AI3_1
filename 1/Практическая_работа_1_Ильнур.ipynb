{
 "cells": [
  {
   "cell_type": "markdown",
   "metadata": {
    "colab_type": "text",
    "id": "view-in-github"
   },
   "source": [
    "<a href=\"https://colab.research.google.com/github/SeruiosBoss/AI3_1/blob/main/1/Практическая_работа_1_Ильнур.ipynb\" target=\"_parent\"><img src=\"https://colab.research.google.com/assets/colab-badge.svg\" alt=\"Open In Colab\"/></a>"
   ]
  },
  {
   "cell_type": "markdown",
   "metadata": {
    "id": "C3DZeo7xi2HL"
   },
   "source": [
    "# Практическая работа 1. Простейший скрипт Python"
   ]
  },
  {
   "cell_type": "markdown",
   "metadata": {},
   "source": [
    "ФИО: **Мухамеджанов Ильнур Тимурович**\n",
    "\n",
    "Группа: **ПИН-б-о-22-1**"
   ]
  },
  {
   "cell_type": "markdown",
   "metadata": {
    "id": "8wIyzax9q7JF"
   },
   "source": [
    "## Задание, Вариант 16"
   ]
  },
  {
   "cell_type": "markdown",
   "metadata": {
    "id": "A1UMdzQGjFix"
   },
   "source": [
    "Необходимо вычислить значение выражения:\n",
    "$$Zxy=a_5+b-a_5\\cdot(b+y)$$\n",
    "Для каждой переменной необходимо вывести ее значение и тип."
   ]
  },
  {
   "cell_type": "markdown",
   "metadata": {
    "id": "RGlwZaXQrAfd"
   },
   "source": [
    "## Анализ выражения и определение переменных"
   ]
  },
  {
   "cell_type": "markdown",
   "metadata": {
    "id": "dusmGf0PoHeU"
   },
   "source": [
    "Проанализируем выражение и определим переменные, которые потребуются для выполнения задания. Независимые переменные: $x, y, a_5, b$. Переменная, которая должна быть вычислена на основе независимых: $Zxy$."
   ]
  },
  {
   "cell_type": "code",
   "execution_count": 4,
   "metadata": {
    "colab": {
     "base_uri": "https://localhost:8080/"
    },
    "id": "GRcewQyGh7dD",
    "outputId": "6df1105a-8157-4a3b-e4c7-b46cd495f94d",
    "scrolled": true
   },
   "outputs": [
    {
     "name": "stdout",
     "output_type": "stream",
     "text": [
      "y =  30.67 , type(y) =  <class 'float'>\n",
      "a_5 =  5 , type(a_5) =  <class 'int'>\n",
      "b =  5 , type(b) =  <class 'int'>\n"
     ]
    }
   ],
   "source": [
    "y=30.67\n",
    "a_5=5\n",
    "b=5\n",
    "print(\"y = \", y, \", type(y) = \", type(y))\n",
    "print(\"a_5 = \", a_5, \", type(a_5) = \", type(a_5))\n",
    "print(\"b = \", b, \", type(b) = \", type(b))"
   ]
  },
  {
   "cell_type": "markdown",
   "metadata": {
    "id": "JCG1FflCrJRE"
   },
   "source": [
    "## Вычисление выражение, печать результатов"
   ]
  },
  {
   "cell_type": "markdown",
   "metadata": {
    "id": "9ky-Ji8ppVb9"
   },
   "source": [
    "Код для вычисления значения выражения $Zxy$:"
   ]
  },
  {
   "cell_type": "code",
   "execution_count": 8,
   "metadata": {
    "colab": {
     "base_uri": "https://localhost:8080/"
    },
    "id": "v5SpmCokphuJ",
    "outputId": "73c75de3-9eaf-4721-c3ea-d373d675885f"
   },
   "outputs": [
    {
     "name": "stdout",
     "output_type": "stream",
     "text": [
      "Zxy= -168.35000000000002\n",
      "Type of Zxy:  <class 'float'>\n",
      "\n",
      "\n",
      "Мухамеджанов Ильнур Тимурович\n",
      "Пин-б-о-22-1, Прикладная информатика, институт перспективной инженерии\n",
      "Python, C#, React\n",
      "Программирование, баскетбол 🏀\n"
     ]
    }
   ],
   "source": [
    "Zxy=a_5+b-a_5*(b+y)\n",
    "print('Zxy=',Zxy)\n",
    "print('Type of Zxy: ', type(Zxy))\n",
    "\n",
    "print(\"\\n\\nМухамеджанов Ильнур Тимурович\")\n",
    "print(\"Пин-б-о-22-1, Прикладная информатика, институт перспективной инженерии\")\n",
    "print(\"Python, C#, React\")\n",
    "print(\"Программирование, баскетбол 🏀\")"
   ]
  },
  {
   "cell_type": "markdown",
   "metadata": {
    "id": "QgydWXtBqRUl"
   },
   "source": [
    "Основные функции, используемые в данной практической работе: `print(), type()`"
   ]
  },
  {
   "cell_type": "markdown",
   "metadata": {
    "id": "QgydWXtBqRUl"
   },
   "source": [
    "1. Чем отличается интерпретируемый язык программирования от компилируемого?\n",
    "- Интерпретируемый язык программирования запускает каждую строчку кода на ходу через интерпретатор, что замедляет выполнения скрипта. Компилируемый язык программирования сперва компилирует весь скрипт в машинный код, а затем выполняет его.\n",
    "\n",
    "2. Перечислите компилируемые языки программирования.\n",
    "- `C++, C#, Java, Swift, Go`\n",
    "\n",
    "3. Перечислите интерпретируемые языки программирования.\n",
    "- `Python, JavaScript, Ruby `\n",
    "\n",
    "4. Как объявляется переменные в языке Python?\n",
    "- Через оператор присваивания `=`\n",
    "\n",
    "5. Каким образом определить тип переменной в языке Python?\n",
    "- Через встроенный метод-функцию `type()`\n",
    "\n",
    "6. Для чего используется функция `print( )` ?\n",
    "- Для вывода данных на экран, то есть в консоль.\n",
    "\n",
    "7. Какая функция предназначена для вычисления модуля в Python? Какую библиотеку необходимо для этого подключить?\n",
    "- Для вычисления модуля используется встроенная функция `abs()`, для которой не нужно подключать библиотеку. Так же есть похожая функция в библиотеке `NumPy (np.abs) `\n",
    "\n",
    "8. Какие из перечисленных идентификаторов нельзя использовать в качестве имен пользовательских переменных? `\"_1_01, b100, int, double_1, _b200, MyVar, create-var, 4perem, _5elem, zo0, wodoo, UserCount, system_call, string, System.Double.\"`\n",
    "- Нельзя использовать `int` - зарезервировано встроенным типом данных Целочисленный тип; `create-var` - \"-\" воспринимается как оператор вычитания; `4perem` - нельзя использовать названия, начинающиеся с цифры для определения переменной. \n",
    "\n",
    "9. Перечислите основные типы в Python.\n",
    "- `int, float, str, bool, list, dict, tuple.`\n",
    "- Целочисленный, С плавающей запятой, Строковый, Логический, Список, Дневник, Кортеж"
   ]
  }
 ],
 "metadata": {
  "colab": {
   "authorship_tag": "ABX9TyMpm8jqq5R9Fbe38x2FWjJE",
   "include_colab_link": true,
   "provenance": [],
   "toc_visible": true
  },
  "kernelspec": {
   "display_name": "Python 3 (ipykernel)",
   "language": "python",
   "name": "python3"
  },
  "language_info": {
   "codemirror_mode": {
    "name": "ipython",
    "version": 3
   },
   "file_extension": ".py",
   "mimetype": "text/x-python",
   "name": "python",
   "nbconvert_exporter": "python",
   "pygments_lexer": "ipython3",
   "version": "3.9.13"
  }
 },
 "nbformat": 4,
 "nbformat_minor": 1
}
