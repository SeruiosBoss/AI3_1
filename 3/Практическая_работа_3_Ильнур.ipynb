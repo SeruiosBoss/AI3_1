{
  "cells": [
    {
      "cell_type": "markdown",
      "metadata": {
        "colab_type": "text",
        "id": "view-in-github"
      },
      "source": [
        "<a href=\"https://colab.research.google.com/github/SeruiosBoss/AI3_1/blob/main/3/Практическая_работа_3_Ильнур.ipynb\" target=\"_parent\"><img src=\"https://colab.research.google.com/assets/colab-badge.svg\" alt=\"Open In Colab\"/></a>"
      ]
    },
    {
      "cell_type": "markdown",
      "metadata": {
        "id": "C3DZeo7xi2HL"
      },
      "source": [
        "# Практическая работа 3. Обработка данных из файла"
      ]
    },
    {
      "cell_type": "markdown",
      "metadata": {},
      "source": [
        "ФИО: **Мухамеджанов Ильнур Тимурович**\n",
        "\n",
        "Группа: **ПИН-б-о-22-1**"
      ]
    },
    {
      "cell_type": "markdown",
      "metadata": {
        "id": "8wIyzax9q7JF"
      },
      "source": [
        "## Задание, Вариант 16"
      ]
    },
    {
      "cell_type": "markdown",
      "metadata": {
        "id": "A1UMdzQGjFix"
      },
      "source": [
        "В файле data_v2.txt найдите количество чисел, у которых поровну\n",
        "четных и нечетных цифр (под числом понимается непрерывная\n",
        "последовательность цифр). \n",
        "\n",
        "В ответе укажите количество таких\n",
        "чисел и максимальное из них."
      ]
    },
    {
      "cell_type": "markdown",
      "metadata": {
        "id": "RGlwZaXQrAfd"
      },
      "source": [
        "## Обозначение функций"
      ]
    },
    {
      "cell_type": "code",
      "execution_count": 1,
      "metadata": {
        "colab": {
          "base_uri": "https://localhost:8080/"
        },
        "id": "GzShFx3l0l49",
        "outputId": "8a4fddd3-38f1-41cf-f1d0-0be0bccc594f",
        "trusted": true
      },
      "outputs": [],
      "source": [
        "def is_even_odd_equal(number):\n",
        "    \"\"\"Проверяет, содержит ли число поровну чётных и нечётных цифр.\"\"\"\n",
        "    number_str = str(abs(number))  # Преобразуем число в строку и убираем знак\n",
        "    even_count = sum(1 for digit in number_str if digit in '02468')\n",
        "    odd_count = sum(1 for digit in number_str if digit in '13579')\n",
        "    return even_count == odd_count\n",
        "\n",
        "def process_file(filename):\n",
        "    \"\"\"Обрабатывает файл и ищет числа с равным количеством чётных и нечётных цифр.\"\"\"\n",
        "    with open(filename, 'r') as file:\n",
        "        numbers = [int(line.strip()) for line in file if line.strip().isdigit()]\n",
        "    \n",
        "    equal_even_odd_numbers = [num for num in numbers if is_even_odd_equal(num)]\n",
        "    \n",
        "    count = len(equal_even_odd_numbers)\n",
        "    max_number = max(equal_even_odd_numbers) if equal_even_odd_numbers else None\n",
        "    \n",
        "    return count, max_number\n"
      ]
    },
    {
      "cell_type": "markdown",
      "metadata": {
        "id": "RGlwZaXQrAfd"
      },
      "source": [
        "## Пример выполнения"
      ]
    },
    {
      "cell_type": "code",
      "execution_count": 3,
      "metadata": {
        "colab": {
          "base_uri": "https://localhost:8080/"
        },
        "id": "GzShFx3l0l49",
        "outputId": "8a4fddd3-38f1-41cf-f1d0-0be0bccc594f",
        "trusted": true
      },
      "outputs": [
        {
          "name": "stdout",
          "output_type": "stream",
          "text": [
            "Количество чисел с равным количеством чётных и нечётных цифр: 3\n",
            "Максимальное из них: 987654\n"
          ]
        }
      ],
      "source": [
        "filename = 'data_v2.txt'\n",
        "count, max_number = process_file(filename)\n",
        "print(f\"Количество чисел с равным количеством чётных и нечётных цифр: {count}\")\n",
        "print(f\"Максимальное из них: {max_number if max_number is not None else 'Не найдено'}\")\n"
      ]
    },
    {
      "cell_type": "markdown",
      "metadata": {
        "id": "kfm23877A4o2"
      },
      "source": [
        "В данной работе были использованы операторы `if` (условный оператор), `for ... in range(...)` (оператор цикла с обходом диапазона). Применялись функции `print()`, `len()`, `max()`. В работе использовался тип данных `dict()`"
      ]
    },
    {
      "cell_type": "markdown",
      "metadata": {
        "id": "QgydWXtBqRUl"
      },
      "source": [
        "1. **Что общего у строки и списка в Python?**  \n",
        "- Строка и список в Python являются итерируемыми последовательностями. Это означает, что элементы обеих структур данных можно перебирать с помощью цикла `for`. Оба типа поддерживают индексацию, срезы (`[start:stop:step]`), функцию `len()`, методы поиска (`index`, `count`) и операции конкатенации с помощью `+`.\n",
        "\n",
        "2. **Перечислите и охарактеризуйте функции класса `str` в Python.**  \n",
        "- Основные функции класса `str`:\n",
        "  - `capitalize()` — возвращает строку с первой заглавной буквой.\n",
        "  - `lower()` — преобразует все символы строки в строчные.\n",
        "  - `upper()` — преобразует все символы строки в заглавные.\n",
        "  - `find(sub)` — возвращает индекс первого вхождения подстроки или -1.\n",
        "  - `replace(old, new)` — заменяет все вхождения `old` на `new`.\n",
        "  - `split(sep)` — разбивает строку на список подстрок по разделителю `sep`.\n",
        "  - `join(iterable)` — соединяет элементы из итерируемого объекта в строку, используя текущую строку как разделитель.\n",
        "  - `strip()` — удаляет пробелы или символы в начале и конце строки.\n",
        "  - `isnumeric()` — проверяет, состоит ли строка только из чисел.\n",
        "\n",
        "3. **Охарактеризуйте тип данных `dict` в Python.**  \n",
        "- `dict` (словарь) — это изменяемая структура данных, которая хранит пары \"ключ:значение\".  \n",
        "  - Ключи уникальны и неизменяемы (могут быть строками, числами, кортежами).  \n",
        "  - Значения могут быть любого типа.  \n",
        "  - Словари обеспечивают быстрый доступ к данным по ключу за счет хеширования.\n",
        "\n",
        "4. **Перечислите и опишите использование функций класса `dict`.**  \n",
        "- Основные методы класса `dict`:\n",
        "  - `get(key, default)` — возвращает значение по ключу или значение `default`, если ключ отсутствует.\n",
        "  - `keys()` — возвращает итерируемый объект с ключами.\n",
        "  - `values()` — возвращает итерируемый объект со значениями.\n",
        "  - `items()` — возвращает итерируемый объект с парами (ключ, значение).\n",
        "  - `update(other_dict)` — обновляет словарь значениями из другого словаря.\n",
        "  - `pop(key, default)` — удаляет ключ и возвращает его значение. Если ключа нет, возвращает `default`.\n",
        "  - `clear()` — очищает словарь.\n",
        "  - `setdefault(key, default)` — возвращает значение по ключу, если ключ отсутствует, добавляет его с `default`.\n",
        "\n",
        "5. **Опишите механизм чтения данных из текстового файла.**  \n",
        "- Для чтения текстового файла используется метод `open()` с режимом `'r'`:\n",
        "  ```python\n",
        "  with open('filename.txt', 'r') as file:\n",
        "      data = file.read()\n",
        "  ```\n",
        "  - Файл открывается в режиме чтения, его содержимое считывается с помощью метода (`read`, `readline`, `readlines`).\n",
        "\n",
        "6. **Опишите назначение, сходства и различия функций чтения из текстового файла: `read()`, `readline()`, `readlines()`.**  \n",
        "- `read()` — считывает весь текст файла как одну строку. Подходит для небольших файлов.  \n",
        "- `readline()` — считывает одну строку из файла. Используется для последовательного чтения файла.  \n",
        "- `readlines()` — считывает весь файл и возвращает список строк. Удобно для обработки построчно.\n",
        "\n",
        "7. **Как прочитать многострочный текстовый файл, не используя явно методы `read()`, `readline()`, `readlines()`?**  \n",
        "- Можно использовать цикл `for`, так как файл является итерируемым объектом:\n",
        "  ```python\n",
        "  with open('filename.txt', 'r') as file:\n",
        "      for line in file:\n",
        "          print(line.strip())\n",
        "  ```  \n",
        "  - Каждая итерация цикла возвращает следующую строку из файла."
      ]
    }
  ],
  "metadata": {
    "colab": {
      "authorship_tag": "ABX9TyP8QFeWhqyUPlS4P3jU6FYS",
      "include_colab_link": true,
      "provenance": [],
      "toc_visible": true
    },
    "kernelspec": {
      "display_name": "Python (Pyodide)",
      "language": "python",
      "name": "python"
    },
    "language_info": {
      "codemirror_mode": {
        "name": "python",
        "version": 3
      },
      "file_extension": ".py",
      "mimetype": "text/x-python",
      "name": "python",
      "nbconvert_exporter": "python",
      "pygments_lexer": "ipython3",
      "version": "3.8"
    }
  },
  "nbformat": 4,
  "nbformat_minor": 4
}
