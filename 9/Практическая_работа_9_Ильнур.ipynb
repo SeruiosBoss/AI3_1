{
  "cells": [
    {
      "cell_type": "markdown",
      "metadata": {
        "colab_type": "text",
        "id": "view-in-github"
      },
      "source": [
        "<a href=\"https://colab.research.google.com/github/SeruiosBoss/AI3_1/blob/main/9/Практическая_работа_9_Ильнур.ipynb\" target=\"_parent\"><img src=\"https://colab.research.google.com/assets/colab-badge.svg\" alt=\"Open In Colab\"/></a>"
      ]
    },
    {
      "cell_type": "markdown",
      "metadata": {
        "id": "C3DZeo7xi2HL"
      },
      "source": [
        "# Практическая работа 9. Первичный анализ данных"
      ]
    },
    {
      "cell_type": "markdown",
      "metadata": {},
      "source": [
        "ФИО: **Мухамеджанов Ильнур Тимурович**\n",
        "\n",
        "Группа: **ПИН-б-о-22-1**"
      ]
    },
    {
      "cell_type": "markdown",
      "metadata": {
        "id": "8wIyzax9q7JF"
      },
      "source": [
        "## Задание, Вариант 16"
      ]
    },
    {
      "cell_type": "markdown",
      "metadata": {
        "id": "A1UMdzQGjFix"
      },
      "source": [
        "1. Проведите `первичный анализ данных`. В результате анализа данных\n",
        "студент должен предоставить следующую информацию о наборе данных:\n",
        "2. `Описание набора данных`, пояснения, позволяющие лучше понять\n",
        "природу данных. `Назначение` набора данных и `возможные модели`, которые можно\n",
        "построить на основе данного набора данных (практические задачи, решаемые с\n",
        "использованием данного обучающего набора данных). `Описание каждого признака\n",
        "и его тип`.\n",
        "3. `Форма набора данных`: количество `элементов` набора, количество\n",
        "`признаков`, количество `пропущенных значений`, среднее значение отдельных\n",
        "признаков, максимальные и минимальные значения отдельных признаков и прочие\n",
        "показатели. Предположения, которые можно сделать, проведя первичный анализ.\n",
        "4. `Графические представления`, позволяющие судить о неоднородности\n",
        "исследуемого набора данных. Построение графиков желательно произвести по\n",
        "нескольким проекциям."
      ]
    },
    {
      "cell_type": "markdown",
      "metadata": {
        "id": "RGlwZaXQrAfd"
      },
      "source": [
        "## Обозначение функций, `Первичный анализ данных`, `Описание` набора данных и его `Графические представления`"
      ]
    },
    {
      "cell_type": "code",
      "execution_count": null,
      "metadata": {
        "colab": {
          "base_uri": "https://localhost:8080/"
        },
        "id": "GzShFx3l0l49",
        "outputId": "8a4fddd3-38f1-41cf-f1d0-0be0bccc594f",
        "trusted": true
      },
      "outputs": [],
      "source": [
        "import numpy as np\n",
        "import pandas as pd\n",
        "import matplotlib.pyplot as plt\n",
        "\n",
        "# Загрузка данных\n",
        "attributes = [\n",
        "    \"class\", \"cap-shape\", \"cap-surface\", \"cap-color\", \"bruises\", \"odor\", \"gill-attachment\",\n",
        "    \"gill-spacing\", \"gill-size\", \"gill-color\", \"stalk-shape\", \"stalk-root\",\n",
        "    \"stalk-surface-above-ring\", \"stalk-surface-below-ring\", \"stalk-color-above-ring\",\n",
        "    \"stalk-color-below-ring\", \"veil-type\", \"veil-color\", \"ring-number\", \"ring-type\",\n",
        "    \"spore-print-color\", \"population\", \"habitat\"\n",
        "]\n",
        "\n",
        "data = pd.read_csv(\"agaricus-lepiota.data\", header=None, names=attributes)\n",
        "\n",
        "# 1. Первичный анализ данных\n",
        "print(\"\\nОбщая информация о наборе данных:\\n\")\n",
        "print(data.info())\n",
        "\n",
        "print(\"\\nПервые несколько строк данных:\\n\")\n",
        "print(data.head())\n",
        "\n",
        "# Проверка пропусков\n",
        "missing_values = data.isnull().sum()\n",
        "print(\"\\nКоличество пропущенных значений:\\n\")\n",
        "print(missing_values)\n",
        "\n",
        "# Анализ целевого признака (class)\n",
        "class_counts = data['class'].value_counts()\n",
        "print(\"\\nРаспределение классов (class):\\n\")\n",
        "print(class_counts)\n",
        "\n",
        "# 2. Графический анализ\n",
        "# Построение графиков распределения классов\n",
        "plt.figure(figsize=(6, 4))\n",
        "plt.bar(class_counts.index, class_counts.values, color=['red', 'green'])\n",
        "plt.title('Распределение классов (class)')\n",
        "plt.xlabel('Класс (class)')\n",
        "plt.ylabel('Количество экземпляров')\n",
        "plt.xticks(ticks=[0, 1], labels=['Poisonous', 'Edible'])\n",
        "plt.show()\n",
        "\n",
        "# Построение распределения для некоторых атрибутов\n",
        "selected_features = ['cap-shape', 'cap-surface', 'cap-color']\n",
        "for feature in selected_features:\n",
        "    feature_counts = data[feature].value_counts()\n",
        "    plt.figure(figsize=(8, 4))\n",
        "    plt.bar(feature_counts.index, feature_counts.values, color='blue')\n",
        "    plt.title(f'Распределение признака: {feature}')\n",
        "    plt.xlabel(feature)\n",
        "    plt.ylabel('Количество экземпляров')\n",
        "    plt.show()\n",
        "\n",
        "# 3. Анализ количественных характеристик\n",
        "unique_values = {col: data[col].nunique() for col in data.columns}\n",
        "print(\"\\nКоличество уникальных значений для каждого признака:\\n\")\n",
        "print(unique_values)\n",
        "\n",
        "# Преобразование данных для численного анализа (если потребуется)\n",
        "def encode_categorical(df):\n",
        "    return pd.get_dummies(df, drop_first=True)\n",
        "\n",
        "encoded_data = encode_categorical(data)\n",
        "mean_values = encoded_data.mean()\n",
        "min_values = encoded_data.min()\n",
        "max_values = encoded_data.max()\n",
        "\n",
        "print(\"\\nСредние значения признаков после кодирования:\\n\")\n",
        "print(mean_values)\n",
        "\n",
        "print(\"\\nМинимальные значения признаков после кодирования:\\n\")\n",
        "print(min_values)\n",
        "\n",
        "print(\"\\nМаксимальные значения признаков после кодирования:\\n\")\n",
        "print(max_values)\n"
      ]
    },
    {
      "cell_type": "markdown",
      "metadata": {
        "id": "kfm23877A4o2"
      },
      "source": [
        "В данной работе были использованы библиотеки `numpy, matplotlib` и модуль `pyplot` для первичного анализа данных и построения их графических представлений"
      ]
    },
    {
      "cell_type": "markdown",
      "metadata": {
        "id": "QgydWXtBqRUl"
      },
      "source": [
        "### 1. **Какие инструментальные средства используются для организации рабочего места специалиста Data Science?**  \n",
        "- **Рабочее оборудование:**  \n",
        "  - Мощный компьютер с достаточным объемом оперативной памяти (не менее 16 ГБ) и производительным процессором.  \n",
        "  - Графический процессор (GPU) для ускорения вычислений при обучении сложных моделей.  \n",
        "\n",
        "- **Программное обеспечение:**  \n",
        "  - **Операционная система:** Linux (Ubuntu) или macOS (из-за удобства работы с инструментами разработки), Windows также используется.  \n",
        "  - **Среды разработки:** Jupyter Notebook, PyCharm, VS Code.  \n",
        "  - **Пакеты и менеджеры зависимостей:** Anaconda, pip, Poetry.  \n",
        "\n",
        "- **Средства работы с данными:**  \n",
        "  - **Базы данных:** PostgreSQL, MySQL, MongoDB.  \n",
        "  - **Инструменты для ETL:** Apache Airflow, Luigi, pandas для локальных задач.  \n",
        "\n",
        "- **Облачные платформы:**  \n",
        "  - Google Colab, Amazon SageMaker, Microsoft Azure ML, Google Cloud AI.  \n",
        "\n",
        "- **Системы контроля версий:**  \n",
        "  - Git, платформы для совместной работы: GitHub, GitLab.  \n",
        "\n",
        "- **Визуализация:**  \n",
        "  - Инструменты: Matplotlib, Seaborn, Tableau, Power BI.  \n",
        "\n",
        "---\n",
        "\n",
        "### 2. **Какие библиотеки Python используются для работы в области машинного обучения? Дайте краткую характеристику каждой библиотеке.**  \n",
        "\n",
        "1. **Scikit-learn**  \n",
        "   - Набор инструментов для классических алгоритмов машинного обучения.  \n",
        "   - Поддерживает классификацию, регрессию, кластеризацию, обработку данных.  \n",
        "\n",
        "2. **TensorFlow**  \n",
        "   - Платформа для создания и обучения нейронных сетей, разработанная Google.  \n",
        "   - Подходит для задач глубокого обучения, поддерживает работу на GPU/TPU.  \n",
        "\n",
        "3. **PyTorch**  \n",
        "   - Разработан Facebook, активно используется в исследованиях.  \n",
        "   - Удобен для создания сложных архитектур, поддерживает динамическую графовую модель.  \n",
        "\n",
        "4. **Keras**  \n",
        "   - Высокоуровневый интерфейс для TensorFlow.  \n",
        "   - Прост в использовании, используется для быстрого прототипирования нейронных сетей.  \n",
        "\n",
        "5. **XGBoost**  \n",
        "   - Библиотека градиентного бустинга на деревьях решений.  \n",
        "   - Эффективна в соревнованиях по анализу данных (Kaggle).  \n",
        "\n",
        "6. **LightGBM**  \n",
        "   - Быстрая и эффективная библиотека бустинга от Microsoft.  \n",
        "   - Лучше работает на больших наборах данных и поддерживает категориальные переменные.  \n",
        "\n",
        "7. **pandas**  \n",
        "   - Инструмент для работы с табличными данными.  \n",
        "   - Удобен для анализа, манипуляций и подготовки данных.  \n",
        "\n",
        "8. **NumPy**  \n",
        "   - Основа для работы с массивами и матрицами.  \n",
        "   - Оптимизирован для выполнения математических операций.  \n",
        "\n",
        "9. **Matplotlib и Seaborn**  \n",
        "   - Визуализация данных.  \n",
        "   - Matplotlib — для создания графиков, Seaborn — для улучшения их эстетики.  \n",
        "\n",
        "10. **NLTK и SpaCy**  \n",
        "    - Библиотеки для обработки естественного языка (NLP).  \n",
        "    - NLTK используется для исследований, SpaCy — для продуктивного использования.  \n",
        "\n",
        "---\n",
        "\n",
        "### 3. **Почему при реализации систем машинного обучения широкое распространение получили библиотеки Python?**  \n",
        "\n",
        "1. **Простота языка:**  \n",
        "   - Python понятен как новичкам, так и опытным специалистам.  \n",
        "   - Читаемый код ускоряет разработку и исследования.  \n",
        "\n",
        "2. **Обширная экосистема:**  \n",
        "   - Множество библиотек для машинного обучения, работы с данными, визуализации.  \n",
        "   - Интеграция с другими языками и инструментами (C, R, SQL).  \n",
        "\n",
        "3. **Большое сообщество:**  \n",
        "   - Активное развитие библиотек, большое количество обучающих материалов.  \n",
        "   - Возможность быстро найти решение благодаря открытым репозиториям.  \n",
        "\n",
        "4. **Кроссплатформенность:**  \n",
        "   - Работает на Windows, macOS и Linux.  \n",
        "   - Удобен как для исследований, так и для промышленного использования.  \n",
        "\n",
        "5. **Поддержка со стороны компаний:**  \n",
        "   - Такие компании, как Google (TensorFlow) и Facebook (PyTorch), активно развивают экосистему Python.  \n",
        "\n",
        "6. **Гибкость:**  \n",
        "   - Можно интегрировать в рабочие процессы с использованием других языков (например, C++).  \n",
        "   - Используется как для прототипирования, так и для создания конечных продуктов.  "
      ]
    }
  ],
  "metadata": {
    "colab": {
      "authorship_tag": "ABX9TyP8QFeWhqyUPlS4P3jU6FYS",
      "include_colab_link": true,
      "provenance": [],
      "toc_visible": true
    },
    "kernelspec": {
      "display_name": "Python (Pyodide)",
      "language": "python",
      "name": "python"
    },
    "language_info": {
      "codemirror_mode": {
        "name": "python",
        "version": 3
      },
      "file_extension": ".py",
      "mimetype": "text/x-python",
      "name": "python",
      "nbconvert_exporter": "python",
      "pygments_lexer": "ipython3",
      "version": "3.8"
    }
  },
  "nbformat": 4,
  "nbformat_minor": 4
}
