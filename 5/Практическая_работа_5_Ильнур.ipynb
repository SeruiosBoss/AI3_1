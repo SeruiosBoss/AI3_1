{
  "metadata": {
    "kernelspec": {
      "display_name": "Python (Pyodide)",
      "language": "python",
      "name": "python"
    },
    "language_info": {
      "codemirror_mode": {
        "name": "python",
        "version": 3
      },
      "file_extension": ".py",
      "mimetype": "text/x-python",
      "name": "python",
      "nbconvert_exporter": "python",
      "pygments_lexer": "ipython3",
      "version": "3.8"
    },
    "colab": {
      "authorship_tag": "ABX9TyP8QFeWhqyUPlS4P3jU6FYS",
      "include_colab_link": true,
      "provenance": [],
      "toc_visible": true
    }
  },
  "nbformat_minor": 4,
  "nbformat": 4,
  "cells": [
    {
      "cell_type": "markdown",
      "source": "<a href=\"https://colab.research.google.com/github/enikolaev/AI_in_biotech/blob/main/%D0%9F%D1%80%D0%B0%D0%BA%D1%82%D0%B8%D1%87%D0%B5%D1%81%D0%BA%D0%B0%D1%8F_%D1%80%D0%B0%D0%B1%D0%BE%D1%82%D0%B0_3.ipynb\" target=\"_parent\"><img src=\"https://colab.research.google.com/assets/colab-badge.svg\" alt=\"Open In Colab\"/></a>",
      "metadata": {
        "colab_type": "text",
        "id": "view-in-github"
      }
    },
    {
      "cell_type": "markdown",
      "source": "# Практическая работа 5. Объектно-ориентированное программирование",
      "metadata": {
        "id": "C3DZeo7xi2HL"
      }
    },
    {
      "cell_type": "markdown",
      "source": "ФИО: **Мухамеджанов Ильнур Тимурович**\n\nГруппа: **ПИН-б-о-22-1**",
      "metadata": {}
    },
    {
      "cell_type": "markdown",
      "source": "## Задание, Вариант 16",
      "metadata": {
        "id": "8wIyzax9q7JF"
      }
    },
    {
      "cell_type": "markdown",
      "source": "Класс `«График y=x-10»`. Реализовать ввод и вывод полей данных,\nвычисление интеграла функции от `a` до `b` (вводятся пользователем),\nдлины отрезка функции от `(a, y(a)) до (b, y(b))`, а также вывод\nинформации об объекте.",
      "metadata": {
        "id": "A1UMdzQGjFix"
      }
    },
    {
      "cell_type": "markdown",
      "source": "## Обозначение функций и выполнение задач ООП",
      "metadata": {
        "id": "RGlwZaXQrAfd"
      }
    },
    {
      "cell_type": "code",
      "source": "import math\nfrom scipy.integrate import quad\n\nclass Graph:\n    def __init__(self):\n        self.a = 0\n        self.b = 0\n\n    def set_bounds(self, a, b):\n        \"\"\"Установить пределы интегрирования.\"\"\"\n        self.a = a\n        self.b = b\n\n    def calculate_integral(self):\n        \"\"\"Вычислить интеграл функции y = x - 10 от a до b.\"\"\"\n        integral, _ = quad(lambda x: x - 10, self.a, self.b)\n        return integral\n\n    def calculate_segment_length(self):\n        \"\"\"Вычислить длину отрезка функции от (a, y(a)) до (b, y(b)).\"\"\"\n        length = math.sqrt((self.b - self.a)**2 + ((self.b - 10) - (self.a - 10))**2)\n        return length\n\n    def __str__(self):\n        \"\"\"Вернуть строковое представление объекта.\"\"\"\n        return (\n            f\"График функции y = x - 10\\n\"\n            f\"Пределы интегрирования: a = {self.a}, b = {self.b}\\n\"\n            f\"Интеграл функции: {self.calculate_integral()}\\n\"\n            f\"Длина отрезка: {self.calculate_segment_length()}\"\n        )\n\n# Пример использования\ngraph = Graph()\na = 1\nb = 5\n\ngraph.set_bounds(a, b)\nprint(graph)\n",
      "metadata": {
        "colab": {
          "base_uri": "https://localhost:8080/"
        },
        "id": "GzShFx3l0l49",
        "outputId": "8a4fddd3-38f1-41cf-f1d0-0be0bccc594f",
        "trusted": true
      },
      "outputs": [
        {
          "name": "stdout",
          "text": "График функции y = x - 10\nПределы интегрирования: a = 1, b = 5\nИнтеграл функции: -28.0\nДлина отрезка: 5.656854249492381\n",
          "output_type": "stream"
        }
      ],
      "execution_count": 6
    },
    {
      "cell_type": "markdown",
      "source": "В данной работе были использованы библиотекы `math, scipy` и их модули `integrate, quad` для удобного решения задачи вычисления квадратного корня и точного численного интегрирования функции",
      "metadata": {
        "id": "kfm23877A4o2"
      }
    },
    {
      "cell_type": "markdown",
      "source": "1. **Дайте определение понятию класс.**  \n- Класс в Python — это шаблон (структура), определяющий свойства (атрибуты) и поведение (методы) объектов. Класс задает модель, по которой создаются объекты, обеспечивая их единообразие.  \n\n2. **Продемонстрируйте использование метода `__init__`. Поясните назначение данного метода.**  \n- Метод `__init__` — это конструктор класса, который вызывается автоматически при создании объекта. Он инициализирует свойства объекта, задавая им начальные значения.  \n- **Пример кода:**\n  ```python\n  class Person:\n      def __init__(self, name, age):\n          self.name = name  # Инициализация атрибута name\n          self.age = age    # Инициализация атрибута age\n\n      def introduce(self):\n          print(f\"Меня зовут {self.name}, и мне {self.age} лет.\")\n\n  # Создание объекта класса\n  person = Person(\"Алиса\", 30)\n  person.introduce()\n  ```\n  - **Назначение:** Метод `__init__` используется для установки исходного состояния объекта.  \n\n3. **Поясните назначение статических методов и их отличия от методов класса.**  \n- **Статические методы:**  \n  Статические методы определяются с использованием декоратора `@staticmethod`. Они не привязаны к экземпляру или классу и не используют параметр `self` или `cls`. Они применяются для логически связанных с классом действий, но не зависящих от его состояния.  \n  ```python\n  class MathUtils:\n      @staticmethod\n      def add(a, b):\n          return a + b\n  print(MathUtils.add(5, 7))\n  ```\n  \n- **Методы класса:**  \n  Определяются с использованием декоратора `@classmethod` и принимают параметр `cls`, который представляет сам класс. Они могут работать с атрибутами класса, но не с атрибутами экземпляра.  \n  ```python\n  class Example:\n      counter = 0\n\n      @classmethod\n      def increment_counter(cls):\n          cls.counter += 1\n  Example.increment_counter()\n  print(Example.counter)\n  ```\n\n4. **Для чего используется параметр `self` в каждом методе класса?**  \n- Параметр `self` используется для ссылки на конкретный экземпляр класса, вызвавший метод. С его помощью можно обращаться к атрибутам и другим методам объекта.  \n  ```python\n  class Example:\n      def __init__(self, value):\n          self.value = value\n\n      def show_value(self):\n          print(self.value)\n  ```\n\n5. **Сколько методов `__init__` может быть объявлено внутри класса?**  \n- Внутри одного класса может быть только один метод `__init__`. Если объявить несколько, последний переопределит все предыдущие. Однако можно использовать перегрузку через необязательные параметры, чтобы метод `__init__` обрабатывал различные сценарии.  \n  ```python\n  class Example:\n      def __init__(self, x=None):\n          if x is None:\n              self.value = 0\n          else:\n              self.value = x\n  ```",
      "metadata": {
        "id": "QgydWXtBqRUl"
      }
    }
  ]
}