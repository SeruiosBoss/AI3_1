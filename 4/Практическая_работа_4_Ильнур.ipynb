{
  "metadata": {
    "kernelspec": {
      "display_name": "Python (Pyodide)",
      "language": "python",
      "name": "python"
    },
    "language_info": {
      "codemirror_mode": {
        "name": "python",
        "version": 3
      },
      "file_extension": ".py",
      "mimetype": "text/x-python",
      "name": "python",
      "nbconvert_exporter": "python",
      "pygments_lexer": "ipython3",
      "version": "3.8"
    },
    "colab": {
      "authorship_tag": "ABX9TyP8QFeWhqyUPlS4P3jU6FYS",
      "include_colab_link": true,
      "provenance": [],
      "toc_visible": true
    }
  },
  "nbformat_minor": 4,
  "nbformat": 4,
  "cells": [
    {
      "cell_type": "markdown",
      "source": "<a href=\"https://colab.research.google.com/github/SeruiosBoss/AI3_1/blob/main/4/Практическая_работа_4_Ильнур.ipynb\" target=\"_parent\"><img src=\"https://colab.research.google.com/assets/colab-badge.svg\" alt=\"Open In Colab\"/></a>",
      "metadata": {
        "colab_type": "text",
        "id": "view-in-github"
      }
    },
    {
      "cell_type": "markdown",
      "source": "# Практическая работа 4. Данные в формате CSV",
      "metadata": {
        "id": "C3DZeo7xi2HL"
      }
    },
    {
      "cell_type": "markdown",
      "source": "ФИО: **Мухамеджанов Ильнур Тимурович**\n\nГруппа: **ПИН-б-о-22-1**",
      "metadata": {}
    },
    {
      "cell_type": "markdown",
      "source": "## Задание, Вариант 16",
      "metadata": {
        "id": "8wIyzax9q7JF"
      }
    },
    {
      "cell_type": "markdown",
      "source": "В файле p4_data_16.csv найти:\n\n1. Сумма фонда з/п в каждой из 3-х категорий сотрудников;\n2. Количество сотрудников с дипломом и без;\n3. Количество сотрудников с з/п менее $50000,00;\n4. Максимальную зарплату среди сотрудников без диплома и\nминимальную у сотрудников с дипломом.",
      "metadata": {
        "id": "A1UMdzQGjFix"
      }
    },
    {
      "cell_type": "markdown",
      "source": "## Обозначение функций и выполнение 4 задач",
      "metadata": {
        "id": "RGlwZaXQrAfd"
      }
    },
    {
      "cell_type": "code",
      "source": "import pandas as pd\n\n# Чтение данных из CSV файла\ndata = pd.read_csv('p4_data_16.csv')\n\n# Преобразование колонки 'Money' в числовой формат (убираем символ '$')\ndata['Money'] = data['Money'].replace('[\\\\$,]', '', regex=True).astype(float)\n\n# 1. Сумма фонда зарплат в каждой из категорий сотрудников\nsalary_sum_by_department = data.groupby('Department')['Money'].sum()\nprint(\"Сумма фонда зарплат в каждой категории сотрудников:\")\nprint(salary_sum_by_department)\n\n# 2. Количество сотрудников с дипломом и без\ndiploma_counts = data['HasDiploma'].value_counts()\nprint(\"\\nКоличество сотрудников с дипломом и без:\")\nprint(f\"С дипломом: {diploma_counts[True]}\")\nprint(f\"Без диплома: {diploma_counts[False]}\")\n\n# 3. Количество сотрудников с зарплатой менее $50,000\nlow_salary_count = data[data['Money'] < 50000].shape[0]\nprint(f\"\\nКоличество сотрудников с зарплатой менее $50,000: {low_salary_count}\")\n\n# 4. Максимальная зарплата среди сотрудников без диплома и минимальная у сотрудников с дипломом\nmax_salary_no_diploma = data[data['HasDiploma'] == False]['Money'].max()\nmin_salary_with_diploma = data[data['HasDiploma'] == True]['Money'].min()\nprint(f\"\\nМаксимальная зарплата среди сотрудников без диплома: ${max_salary_no_diploma}\")\nprint(f\"Минимальная зарплата среди сотрудников с дипломом: ${min_salary_with_diploma}\")\n",
      "metadata": {
        "colab": {
          "base_uri": "https://localhost:8080/"
        },
        "id": "GzShFx3l0l49",
        "outputId": "8a4fddd3-38f1-41cf-f1d0-0be0bccc594f",
        "trusted": true
      },
      "outputs": [
        {
          "name": "stdout",
          "text": "Сумма фонда зарплат в каждой категории сотрудников:\nDepartment\nбухгалтеры      15423509.92\nинженеры        17010539.27\nпрограммисты    16558802.23\nName: Money, dtype: float64\n\nКоличество сотрудников с дипломом и без:\nС дипломом: 511\nБез диплома: 489\n\nКоличество сотрудников с зарплатой менее $50,000: 525\n\nМаксимальная зарплата среди сотрудников без диплома: $99831.81\nМинимальная зарплата среди сотрудников с дипломом: $1053.76\n",
          "output_type": "stream"
        }
      ],
      "execution_count": 3
    },
    {
      "cell_type": "markdown",
      "source": "В данной работе была использована библиотека `pandas` для удобного чтения и анализа файлов типа CSV",
      "metadata": {
        "id": "kfm23877A4o2"
      }
    },
    {
      "cell_type": "markdown",
      "source": "1. **Код для печати суммы элементов списка `p`:**  \n```python\np = [10, 100, 34, 56, 45, 45]\nprint(sum(p))\n```\n\n2. **Код для печати количества элементов списка `p`:**  \n```python\np = [10, 100, 34, 56, 45, 45]\nprint(len(p))\n```\n\n3. **Код для печати суммы элементов, кратных 7:**  \n```python\np = [10, 100, 35, 34, 56, 45, 45, 21]\nprint(sum(x for x in p if x % 7 == 0))\n```\n\n4. **Код для поиска ключей словаря `d`, для которых значения превышают 45:**  \n```python\nd = {4: 10, 12: 100, 35: 3, 34: 56, 56: 11, 45: 'abc'}\nresult = [key for key, value in d.items() if isinstance(value, (int, float)) and value > 45]\nprint(result)\n```\n\n5. **Код, который выводит список, составленный из квадратов чисел от 1 до 100:**  \n```python\nsquares = [x**2 for x in range(1, 101)]\nprint(squares)\n```\n\n6. **Описание структуры файла CSV и последовательность действий при его чтении:**  \n- **Структура файла CSV (Comma-Separated Values):**  \n  CSV — текстовый файл, в котором данные хранятся в табличном виде. Каждая строка представляет собой запись, а значения внутри строки разделяются запятыми (или другим разделителем, например, точкой с запятой).  \n  Пример файла:\n  ```\n  name,age,city\n  John,25,New York\n  Alice,30,Los Angeles\n  Bob,22,Chicago\n  ```\n\n- **Последовательность действий при чтении файла CSV в Python:**  \n  1. Подключить модуль `csv`:  \n     ```python\n     import csv\n     ```\n  2. Открыть файл для чтения:  \n     ```python\n     with open('file.csv', 'r') as file:\n     ```\n  3. Создать объект чтения:  \n     ```python\n     reader = csv.reader(file)\n     ```\n  4. Обработать данные построчно:  \n     ```python\n     for row in reader:\n         print(row)\n     ```\n\n- **Пример кода для чтения CSV файла:**\n  ```python\n  import csv\n\n  with open('example.csv', 'r') as file:\n      reader = csv.reader(file)\n      for row in reader:\n          print(row)\n  ```",
      "metadata": {
        "id": "QgydWXtBqRUl"
      }
    }
  ]
}
